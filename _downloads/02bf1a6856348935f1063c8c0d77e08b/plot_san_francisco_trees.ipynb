{
  "cells": [
    {
      "cell_type": "code",
      "execution_count": null,
      "metadata": {
        "collapsed": false
      },
      "outputs": [],
      "source": [
        "%matplotlib inline"
      ]
    },
    {
      "cell_type": "markdown",
      "metadata": {},
      "source": [
        "\nQuadtree of San Francisco street trees\n======================================\n\nSan Francisco maintains data about city-maintained street trees in the city. Most trees are\nidentified by their species, but some trees lack this information. This example is a recipe\ndemonstrating how a ``quadtree`` plot can be used to inspect the geospatial nullity pattern\nof a dataset: e.g. whether or not trees in certain areas of the city are less likely to be\nclassified into a specific species than others.\n\nIn this case we see that there is small but significant amount of variation in the percentage\nof trees classified per area, which ranges from 88% to 98%.\n\nFor more tools for visualizing data nullity, `check out the missingno library\n<https://github.com/ResidentMario/missingno>`_.\n\n"
      ]
    },
    {
      "cell_type": "code",
      "execution_count": null,
      "metadata": {
        "collapsed": false
      },
      "outputs": [],
      "source": [
        "import geopandas as gpd\nimport geoplot as gplt\nimport geoplot.crs as gcrs\nimport matplotlib.pyplot as plt\n\n\ntrees = gpd.read_file(gplt.datasets.get_path('san_francisco_street_trees_sample'))\nsf = gpd.read_file(gplt.datasets.get_path('san_francisco'))\n\n\nax = gplt.quadtree(\n    trees.assign(nullity=trees['Species'].notnull().astype(int)),\n    projection=gcrs.AlbersEqualArea(),\n    hue='nullity', nmax=1, cmap='Greens', k=5, legend=True,\n    clip=sf, edgecolor='white', linewidth=1\n)\ngplt.polyplot(sf, facecolor='None', edgecolor='gray', linewidth=1, zorder=2, ax=ax)\n\nplt.savefig(\"san-francisco-street-trees.png\", bbox_inches='tight', pad_inches=0)"
      ]
    }
  ],
  "metadata": {
    "kernelspec": {
      "display_name": "Python 3",
      "language": "python",
      "name": "python3"
    },
    "language_info": {
      "codemirror_mode": {
        "name": "ipython",
        "version": 3
      },
      "file_extension": ".py",
      "mimetype": "text/x-python",
      "name": "python",
      "nbconvert_exporter": "python",
      "pygments_lexer": "ipython3",
      "version": "3.6.7"
    }
  },
  "nbformat": 4,
  "nbformat_minor": 0
}