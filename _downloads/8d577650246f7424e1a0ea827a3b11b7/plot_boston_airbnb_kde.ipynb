{
  "cells": [
    {
      "cell_type": "code",
      "execution_count": null,
      "metadata": {
        "collapsed": false
      },
      "outputs": [],
      "source": [
        "%matplotlib inline"
      ]
    },
    {
      "cell_type": "markdown",
      "metadata": {},
      "source": [
        "\n# KDEPlot of Boston AirBnB Locations\n\nThis example demonstrates a combined application of ``kdeplot`` and ``pointplot`` to a\ndataset of AirBnB locations in Boston. The result is outputted to a webmap using the nifty\n``mplleaflet`` library. We sample just 1000 points, which captures the overall trend without\noverwhelming the renderer.\n\n`Click here to see this plot as an interactive webmap.\n<https://bl.ocks.org/ResidentMario/868ac097d671df1ed5ec83eed048560c>`_\n"
      ]
    },
    {
      "cell_type": "code",
      "execution_count": null,
      "metadata": {
        "collapsed": false
      },
      "outputs": [],
      "source": [
        "import geopandas as gpd\nimport geoplot as gplt\nimport geoplot.crs as gcrs\nimport matplotlib.pyplot as plt\n\nboston_airbnb_listings = gpd.read_file(gplt.datasets.get_path('boston_airbnb_listings'))\n\nax = gplt.kdeplot(\n    boston_airbnb_listings, cmap='viridis', projection=gcrs.WebMercator(), figsize=(12, 12),\n    shade=True\n)\ngplt.pointplot(boston_airbnb_listings, s=1, color='black', ax=ax)\ngplt.webmap(boston_airbnb_listings, ax=ax)\nplt.title('Boston AirBnB Locations, 2016', fontsize=18)"
      ]
    }
  ],
  "metadata": {
    "kernelspec": {
      "display_name": "Python 3",
      "language": "python",
      "name": "python3"
    },
    "language_info": {
      "codemirror_mode": {
        "name": "ipython",
        "version": 3
      },
      "file_extension": ".py",
      "mimetype": "text/x-python",
      "name": "python",
      "nbconvert_exporter": "python",
      "pygments_lexer": "ipython3",
      "version": "3.8.0"
    }
  },
  "nbformat": 4,
  "nbformat_minor": 0
}