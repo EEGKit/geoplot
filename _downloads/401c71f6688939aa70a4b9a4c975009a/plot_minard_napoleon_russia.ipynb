{
  "cells": [
    {
      "cell_type": "code",
      "execution_count": null,
      "metadata": {
        "collapsed": false
      },
      "outputs": [],
      "source": [
        "%matplotlib inline"
      ]
    },
    {
      "cell_type": "markdown",
      "metadata": {},
      "source": [
        "\n# Sankey of Napoleon's march on Moscow with custom colormap\n\nThis example reproduces a famous historical flow map: Charles Joseph Minard's map depicting\nNapoleon's disastrously costly 1812 march on Russia during the Napoleonic Wars.\n\nThis plot demonstrates building and using a custom ``matplotlib`` colormap. To learn more refer to\n`the matplotlib documentation\n<https://matplotlib.org/gallery/images_contours_and_fields/custom_cmap.html>`_.\n\n`Click here <https://bl.ocks.org/ResidentMario/ac2db57d1c6652ddbc4112a3d318c746>`_ to see an\ninteractive scrolly-panny version of this webmap built with ``mplleaflet``. To learn more about\n``mplleaflet``, refer to `the mplleaflet GitHub repo <https://github.com/jwass/mplleaflet>`_.\n"
      ]
    },
    {
      "cell_type": "code",
      "execution_count": null,
      "metadata": {
        "collapsed": false
      },
      "outputs": [],
      "source": [
        "import geopandas as gpd\nimport geoplot as gplt\nfrom matplotlib.colors import LinearSegmentedColormap\n\nnapoleon_troop_movements = gpd.read_file(gplt.datasets.get_path('napoleon_troop_movements'))\n\ncolors = [(215 / 255, 193 / 255, 126 / 255), (37 / 255, 37 / 255, 37 / 255)]\ncm = LinearSegmentedColormap.from_list('minard', colors)\n\ngplt.sankey(\n    napoleon_troop_movements,\n    scale='survivors', limits=(0.5, 45),\n    hue='direction',\n    cmap=cm\n)\n\n# Uncomment and run the following lines of code to save as an interactive webmap.\n# import matplotlib.pyplot as plt\n# import mplleaflet\n# fig = plt.gcf()\n# mplleaflet.save_html(fig, fileobj='minard-napoleon-russia.html')"
      ]
    }
  ],
  "metadata": {
    "kernelspec": {
      "display_name": "Python 3",
      "language": "python",
      "name": "python3"
    },
    "language_info": {
      "codemirror_mode": {
        "name": "ipython",
        "version": 3
      },
      "file_extension": ".py",
      "mimetype": "text/x-python",
      "name": "python",
      "nbconvert_exporter": "python",
      "pygments_lexer": "ipython3",
      "version": "3.8.0"
    }
  },
  "nbformat": 4,
  "nbformat_minor": 0
}