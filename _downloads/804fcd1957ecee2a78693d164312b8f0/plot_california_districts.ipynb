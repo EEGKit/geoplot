{
  "cells": [
    {
      "cell_type": "code",
      "execution_count": null,
      "metadata": {
        "collapsed": false
      },
      "outputs": [],
      "source": [
        "%matplotlib inline"
      ]
    },
    {
      "cell_type": "markdown",
      "metadata": {},
      "source": [
        "\n# Choropleth of California districts with alternative binning schemes\n\nThis example demonstrates the continuous and categorical binning schemes available in ``geoplot``\non a sample dataset of California congressional districts. A binning scheme (or classifier) is a\nmethodology for splitting a sequence of observations into some number of bins (classes). It is also\npossible to have no binning scheme, in which case the data is passed through to ``cmap`` as-is.\n\nThe options demonstrated are:\n\n* scheme=None\u2014A continuous colormap.\n* scheme=\"Quantiles\"\u2014Bins the data such that the bins contain equal numbers of samples.\n* scheme=\"EqualInterval\"\u2014Bins the data such that bins are of equal length.\n* scheme=\"FisherJenks\"\u2014Bins the data using the Fisher natural breaks optimization\n  procedure.\n\nTo learn more about colormaps in general, refer to the\n`/user_guide/Customizing_Plots.ipynb#hue` reference in the documentation.\n\nThis demo showcases a small subset of the classifiers available in ``mapclassify``, the library\nthat ``geoplot`` relies on for this feature. To learn more about ``mapclassify``, including how\nyou can build your own custom ``UserDefined`` classifier, refer to `the mapclassify docs\n<https://pysal.org/mapclassify/index.html>`_.\n"
      ]
    },
    {
      "cell_type": "code",
      "execution_count": null,
      "metadata": {
        "collapsed": false
      },
      "outputs": [],
      "source": [
        "import geopandas as gpd\nimport geoplot as gplt\nimport geoplot.crs as gcrs\nimport mapclassify as mc\nimport matplotlib.pyplot as plt\n\ncali = gpd.read_file(gplt.datasets.get_path('california_congressional_districts'))\ncali = cali.assign(area=cali.geometry.area)\n\n\nproj = gcrs.AlbersEqualArea(central_latitude=37.16611, central_longitude=-119.44944)\nfig, axarr = plt.subplots(2, 2, figsize=(12, 12), subplot_kw={'projection': proj})\n\ngplt.choropleth(\n    cali, hue='area', linewidth=0, scheme=None, ax=axarr[0][0]\n)\naxarr[0][0].set_title('scheme=None', fontsize=18)\n\nscheme = mc.Quantiles(cali.area, k=5)\ngplt.choropleth(\n    cali, hue='area', linewidth=0, scheme=scheme, ax=axarr[0][1]\n)\naxarr[0][1].set_title('scheme=\"Quantiles\"', fontsize=18)\n\nscheme = mc.EqualInterval(cali.area, k=5)\ngplt.choropleth(\n    cali, hue='area', linewidth=0, scheme=scheme, ax=axarr[1][0]\n)\naxarr[1][0].set_title('scheme=\"EqualInterval\"', fontsize=18)\n\nscheme = mc.FisherJenks(cali.area, k=5)\ngplt.choropleth(\n    cali, hue='area', linewidth=0, scheme=scheme, ax=axarr[1][1]\n)\naxarr[1][1].set_title('scheme=\"FisherJenks\"', fontsize=18)\n\nplt.subplots_adjust(top=0.92)\nplt.suptitle('California State Districts by Area, 2010', fontsize=18)"
      ]
    }
  ],
  "metadata": {
    "kernelspec": {
      "display_name": "Python 3",
      "language": "python",
      "name": "python3"
    },
    "language_info": {
      "codemirror_mode": {
        "name": "ipython",
        "version": 3
      },
      "file_extension": ".py",
      "mimetype": "text/x-python",
      "name": "python",
      "nbconvert_exporter": "python",
      "pygments_lexer": "ipython3",
      "version": "3.8.0"
    }
  },
  "nbformat": 4,
  "nbformat_minor": 0
}